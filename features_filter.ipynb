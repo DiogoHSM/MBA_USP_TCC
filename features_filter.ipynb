{
 "cells": [
  {
   "cell_type": "code",
   "id": "initial_id",
   "metadata": {
    "collapsed": true,
    "jupyter": {
     "is_executing": true
    }
   },
   "source": [
    "import pandas as pd\n",
    "from sklearn.model_selection import train_test_split\n",
    "from sklearn.preprocessing import MinMaxScaler\n",
    "from sklearn.ensemble import HistGradientBoostingClassifier\n",
    "from sklearn.metrics import accuracy_score, f1_score, roc_auc_score\n",
    "\n",
    "# 1. Carregando os dados\n",
    "df = pd.read_csv('sdss.csv', skiprows=1)\n",
    "\n",
    "# 2. Mapeando as classes para valores numéricos\n",
    "class_mapping = {'STAR': 0, 'GALAXY': 1, 'QSO': 2}\n",
    "df['class'] = df['class'].map(class_mapping)\n",
    "\n",
    "# 3. Selecionando as features\n",
    "features = ['redshift', 'i', 'u', 'g', 'r', 'z']\n",
    "X = df[features]\n",
    "y = df['class']\n",
    "\n",
    "# 4. Dividindo os dados em treino e teste\n",
    "X_train, X_test, y_train, y_test = train_test_split(X, y, test_size=0.2, random_state=1, stratify=y)\n",
    "\n",
    "# 5. Normalizando os dados\n",
    "scaler = MinMaxScaler()\n",
    "X_train = scaler.fit_transform(X_train)\n",
    "X_test = scaler.transform(X_test)\n",
    "\n",
    "# 6. Treinando o modelo Gradient Boosting com features selecionadas\n",
    "modelo_gb_selecionado = HistGradientBoostingClassifier(random_state=1)\n",
    "modelo_gb_selecionado.fit(X_train, y_train)\n",
    "\n",
    "# 7. Fazendo previsões\n",
    "y_pred = modelo_gb_selecionado.predict(X_test)\n",
    "\n",
    "# 8. Calculando as métricas\n",
    "acuracia = accuracy_score(y_test, y_pred)\n",
    "f1 = f1_score(y_test, y_pred, average='weighted')\n",
    "roc_auc = roc_auc_score(y_test, modelo_gb_selecionado.predict_proba(X_test), multi_class='ovr')\n",
    "\n",
    "# 9. Exibindo as métricas\n",
    "print(f\"Acurácia: {acuracia:.4f}\")\n",
    "print(f\"F1-Score: {f1:.4f}\")\n",
    "print(f\"ROC-AUC: {roc_auc:.4f}\")\n"
   ],
   "outputs": [],
   "execution_count": null
  }
 ],
 "metadata": {
  "kernelspec": {
   "display_name": "Python 3",
   "language": "python",
   "name": "python3"
  },
  "language_info": {
   "codemirror_mode": {
    "name": "ipython",
    "version": 2
   },
   "file_extension": ".py",
   "mimetype": "text/x-python",
   "name": "python",
   "nbconvert_exporter": "python",
   "pygments_lexer": "ipython2",
   "version": "2.7.6"
  }
 },
 "nbformat": 4,
 "nbformat_minor": 5
}
